{
  "nbformat": 4,
  "nbformat_minor": 0,
  "metadata": {
    "colab": {
      "provenance": []
    },
    "kernelspec": {
      "name": "python3",
      "display_name": "Python 3"
    },
    "language_info": {
      "name": "python"
    }
  },
  "cells": [
    {
      "cell_type": "markdown",
      "source": [
        "MODELO TREINADO - BREAST CANCER IA"
      ],
      "metadata": {
        "id": "DEN7kig3tCG0"
      }
    },
    {
      "cell_type": "markdown",
      "source": [
        "Para o arquivo do modelo treinado ser salvo na versão mais recente do scikit-learn, a célula a seguir deve ser executada:"
      ],
      "metadata": {
        "id": "Mw6b1UlUuOmQ"
      }
    },
    {
      "cell_type": "code",
      "source": [
        "pip install scikit-learn==1.3.2\n"
      ],
      "metadata": {
        "colab": {
          "base_uri": "https://localhost:8080/"
        },
        "id": "W0aXVYWzdu_T",
        "outputId": "cc15af1c-f323-42f1-bd66-3aae54e1a58c"
      },
      "execution_count": null,
      "outputs": [
        {
          "output_type": "stream",
          "name": "stdout",
          "text": [
            "Collecting scikit-learn==1.3.2\n",
            "  Downloading scikit_learn-1.3.2-cp310-cp310-manylinux_2_17_x86_64.manylinux2014_x86_64.whl (10.8 MB)\n",
            "\u001b[2K     \u001b[90m━━━━━━━━━━━━━━━━━━━━━━━━━━━━━━━━━━━━━━━━\u001b[0m \u001b[32m10.8/10.8 MB\u001b[0m \u001b[31m21.4 MB/s\u001b[0m eta \u001b[36m0:00:00\u001b[0m\n",
            "\u001b[?25hRequirement already satisfied: numpy<2.0,>=1.17.3 in /usr/local/lib/python3.10/dist-packages (from scikit-learn==1.3.2) (1.23.5)\n",
            "Requirement already satisfied: scipy>=1.5.0 in /usr/local/lib/python3.10/dist-packages (from scikit-learn==1.3.2) (1.11.4)\n",
            "Requirement already satisfied: joblib>=1.1.1 in /usr/local/lib/python3.10/dist-packages (from scikit-learn==1.3.2) (1.3.2)\n",
            "Requirement already satisfied: threadpoolctl>=2.0.0 in /usr/local/lib/python3.10/dist-packages (from scikit-learn==1.3.2) (3.2.0)\n",
            "Installing collected packages: scikit-learn\n",
            "  Attempting uninstall: scikit-learn\n",
            "    Found existing installation: scikit-learn 1.2.2\n",
            "    Uninstalling scikit-learn-1.2.2:\n",
            "      Successfully uninstalled scikit-learn-1.2.2\n",
            "Successfully installed scikit-learn-1.3.2\n"
          ]
        }
      ]
    },
    {
      "cell_type": "markdown",
      "source": [
        "Para realizar o carregamento da base de dados (análise exploratória), a célula a seguir deve ser executada:"
      ],
      "metadata": {
        "id": "Ksn2V0AqujCw"
      }
    },
    {
      "cell_type": "code",
      "execution_count": null,
      "metadata": {
        "id": "-E05uXu43Qdp"
      },
      "outputs": [],
      "source": [
        "import pandas as pd\n",
        "import numpy as np\n",
        "import seaborn as sns\n",
        "from sklearn.utils import resample\n",
        "import matplotlib.pyplot as plt\n",
        "from sklearn.neural_network import MLPClassifier\n",
        "from sklearn.neighbors import KNeighborsClassifier\n",
        "from sklearn.naive_bayes import GaussianNB\n",
        "from sklearn.metrics import confusion_matrix, classification_report\n",
        "\n",
        "#----------------------------ADIÇÕES----#\n",
        "from sklearn.preprocessing import StandardScaler\n",
        "import sklearn\n",
        "import matplotlib.gridspec as gridspec\n",
        "from sklearn.model_selection import StratifiedKFold\n",
        "from sklearn.model_selection import KFold\n",
        "from sklearn.model_selection import train_test_split\n",
        "from sklearn.linear_model import LogisticRegression\n",
        "from sklearn.ensemble import RandomForestClassifier\n",
        "from sklearn.tree import DecisionTreeClassifier, export_graphviz\n",
        "from sklearn.metrics import accuracy_score\n",
        "from sklearn import metrics\n",
        "import joblib\n",
        "\n",
        "#Carregamento da base de dados\n",
        "\n",
        "cancer = pd.read_csv('breast_cancer_modificado.csv')"
      ]
    },
    {
      "cell_type": "code",
      "source": [
        "X = cancer.iloc[:, 0:32]\n",
        "\n",
        "y = X[['target', 'class']]\n",
        "\n",
        "#y.head(200)\n",
        "X.head()"
      ],
      "metadata": {
        "id": "QfYq_J_-ThVu",
        "colab": {
          "base_uri": "https://localhost:8080/",
          "height": 256
        },
        "outputId": "0457635e-74a8-4d5c-e4d1-a5b5655161d9"
      },
      "execution_count": null,
      "outputs": [
        {
          "output_type": "execute_result",
          "data": {
            "text/plain": [
              "   x.radius_mean  x.texture_mean  x.perimeter_mean  x.area_mean  \\\n",
              "0         14.060           17.18             89.75        609.1   \n",
              "1          9.777           16.99             62.50        290.2   \n",
              "2         13.900           19.24             88.73        602.9   \n",
              "3         12.460           12.83             78.83        477.3   \n",
              "4         11.710           16.67             74.72        423.6   \n",
              "\n",
              "   x.smoothness_mean  x.compactness_mean  x.concavity_mean  \\\n",
              "0            0.08045             0.05361          0.026810   \n",
              "1            0.10370             0.08404          0.043340   \n",
              "2            0.07991             0.05326          0.029950   \n",
              "3            0.07372             0.04043          0.007173   \n",
              "4            0.10510             0.06095          0.035920   \n",
              "\n",
              "   x.concave_pts_mean  x.symmetry_mean  x.fractal_dim_mean  ...  \\\n",
              "0             0.03251           0.1641             0.05764  ...   \n",
              "1             0.01778           0.1584             0.07065  ...   \n",
              "2             0.02070           0.1579             0.05594  ...   \n",
              "3             0.01149           0.1613             0.06013  ...   \n",
              "4             0.02600           0.1339             0.05945  ...   \n",
              "\n",
              "   x.perimeter_worst  x.area_worst  x.smoothness_worst  x.compactness_worst  \\\n",
              "0              96.42         684.5             0.10660              0.12310   \n",
              "1              71.68         367.0             0.14670              0.17650   \n",
              "2             104.40         830.5             0.10640              0.14150   \n",
              "3              83.24         534.0             0.09439              0.06477   \n",
              "4              86.16         546.7             0.12710              0.10280   \n",
              "\n",
              "   x.concavity_worst  x.concave_pts_worst  x.symmetry_worst  \\\n",
              "0            0.08460              0.07911            0.2523   \n",
              "1            0.13000              0.05334            0.2533   \n",
              "2            0.16730              0.08150            0.2356   \n",
              "3            0.01674              0.02680            0.2280   \n",
              "4            0.10460              0.06968            0.1712   \n",
              "\n",
              "   x.fractal_dim_worst  class  target  \n",
              "0              0.06609      B       1  \n",
              "1              0.08468      B       1  \n",
              "2              0.07603      B       1  \n",
              "3              0.07028      B       1  \n",
              "4              0.07343      B       1  \n",
              "\n",
              "[5 rows x 32 columns]"
            ],
            "text/html": [
              "\n",
              "  <div id=\"df-7553e1fd-0658-4564-b28c-060ce1111e5d\" class=\"colab-df-container\">\n",
              "    <div>\n",
              "<style scoped>\n",
              "    .dataframe tbody tr th:only-of-type {\n",
              "        vertical-align: middle;\n",
              "    }\n",
              "\n",
              "    .dataframe tbody tr th {\n",
              "        vertical-align: top;\n",
              "    }\n",
              "\n",
              "    .dataframe thead th {\n",
              "        text-align: right;\n",
              "    }\n",
              "</style>\n",
              "<table border=\"1\" class=\"dataframe\">\n",
              "  <thead>\n",
              "    <tr style=\"text-align: right;\">\n",
              "      <th></th>\n",
              "      <th>x.radius_mean</th>\n",
              "      <th>x.texture_mean</th>\n",
              "      <th>x.perimeter_mean</th>\n",
              "      <th>x.area_mean</th>\n",
              "      <th>x.smoothness_mean</th>\n",
              "      <th>x.compactness_mean</th>\n",
              "      <th>x.concavity_mean</th>\n",
              "      <th>x.concave_pts_mean</th>\n",
              "      <th>x.symmetry_mean</th>\n",
              "      <th>x.fractal_dim_mean</th>\n",
              "      <th>...</th>\n",
              "      <th>x.perimeter_worst</th>\n",
              "      <th>x.area_worst</th>\n",
              "      <th>x.smoothness_worst</th>\n",
              "      <th>x.compactness_worst</th>\n",
              "      <th>x.concavity_worst</th>\n",
              "      <th>x.concave_pts_worst</th>\n",
              "      <th>x.symmetry_worst</th>\n",
              "      <th>x.fractal_dim_worst</th>\n",
              "      <th>class</th>\n",
              "      <th>target</th>\n",
              "    </tr>\n",
              "  </thead>\n",
              "  <tbody>\n",
              "    <tr>\n",
              "      <th>0</th>\n",
              "      <td>14.060</td>\n",
              "      <td>17.18</td>\n",
              "      <td>89.75</td>\n",
              "      <td>609.1</td>\n",
              "      <td>0.08045</td>\n",
              "      <td>0.05361</td>\n",
              "      <td>0.026810</td>\n",
              "      <td>0.03251</td>\n",
              "      <td>0.1641</td>\n",
              "      <td>0.05764</td>\n",
              "      <td>...</td>\n",
              "      <td>96.42</td>\n",
              "      <td>684.5</td>\n",
              "      <td>0.10660</td>\n",
              "      <td>0.12310</td>\n",
              "      <td>0.08460</td>\n",
              "      <td>0.07911</td>\n",
              "      <td>0.2523</td>\n",
              "      <td>0.06609</td>\n",
              "      <td>B</td>\n",
              "      <td>1</td>\n",
              "    </tr>\n",
              "    <tr>\n",
              "      <th>1</th>\n",
              "      <td>9.777</td>\n",
              "      <td>16.99</td>\n",
              "      <td>62.50</td>\n",
              "      <td>290.2</td>\n",
              "      <td>0.10370</td>\n",
              "      <td>0.08404</td>\n",
              "      <td>0.043340</td>\n",
              "      <td>0.01778</td>\n",
              "      <td>0.1584</td>\n",
              "      <td>0.07065</td>\n",
              "      <td>...</td>\n",
              "      <td>71.68</td>\n",
              "      <td>367.0</td>\n",
              "      <td>0.14670</td>\n",
              "      <td>0.17650</td>\n",
              "      <td>0.13000</td>\n",
              "      <td>0.05334</td>\n",
              "      <td>0.2533</td>\n",
              "      <td>0.08468</td>\n",
              "      <td>B</td>\n",
              "      <td>1</td>\n",
              "    </tr>\n",
              "    <tr>\n",
              "      <th>2</th>\n",
              "      <td>13.900</td>\n",
              "      <td>19.24</td>\n",
              "      <td>88.73</td>\n",
              "      <td>602.9</td>\n",
              "      <td>0.07991</td>\n",
              "      <td>0.05326</td>\n",
              "      <td>0.029950</td>\n",
              "      <td>0.02070</td>\n",
              "      <td>0.1579</td>\n",
              "      <td>0.05594</td>\n",
              "      <td>...</td>\n",
              "      <td>104.40</td>\n",
              "      <td>830.5</td>\n",
              "      <td>0.10640</td>\n",
              "      <td>0.14150</td>\n",
              "      <td>0.16730</td>\n",
              "      <td>0.08150</td>\n",
              "      <td>0.2356</td>\n",
              "      <td>0.07603</td>\n",
              "      <td>B</td>\n",
              "      <td>1</td>\n",
              "    </tr>\n",
              "    <tr>\n",
              "      <th>3</th>\n",
              "      <td>12.460</td>\n",
              "      <td>12.83</td>\n",
              "      <td>78.83</td>\n",
              "      <td>477.3</td>\n",
              "      <td>0.07372</td>\n",
              "      <td>0.04043</td>\n",
              "      <td>0.007173</td>\n",
              "      <td>0.01149</td>\n",
              "      <td>0.1613</td>\n",
              "      <td>0.06013</td>\n",
              "      <td>...</td>\n",
              "      <td>83.24</td>\n",
              "      <td>534.0</td>\n",
              "      <td>0.09439</td>\n",
              "      <td>0.06477</td>\n",
              "      <td>0.01674</td>\n",
              "      <td>0.02680</td>\n",
              "      <td>0.2280</td>\n",
              "      <td>0.07028</td>\n",
              "      <td>B</td>\n",
              "      <td>1</td>\n",
              "    </tr>\n",
              "    <tr>\n",
              "      <th>4</th>\n",
              "      <td>11.710</td>\n",
              "      <td>16.67</td>\n",
              "      <td>74.72</td>\n",
              "      <td>423.6</td>\n",
              "      <td>0.10510</td>\n",
              "      <td>0.06095</td>\n",
              "      <td>0.035920</td>\n",
              "      <td>0.02600</td>\n",
              "      <td>0.1339</td>\n",
              "      <td>0.05945</td>\n",
              "      <td>...</td>\n",
              "      <td>86.16</td>\n",
              "      <td>546.7</td>\n",
              "      <td>0.12710</td>\n",
              "      <td>0.10280</td>\n",
              "      <td>0.10460</td>\n",
              "      <td>0.06968</td>\n",
              "      <td>0.1712</td>\n",
              "      <td>0.07343</td>\n",
              "      <td>B</td>\n",
              "      <td>1</td>\n",
              "    </tr>\n",
              "  </tbody>\n",
              "</table>\n",
              "<p>5 rows × 32 columns</p>\n",
              "</div>\n",
              "    <div class=\"colab-df-buttons\">\n",
              "\n",
              "  <div class=\"colab-df-container\">\n",
              "    <button class=\"colab-df-convert\" onclick=\"convertToInteractive('df-7553e1fd-0658-4564-b28c-060ce1111e5d')\"\n",
              "            title=\"Convert this dataframe to an interactive table.\"\n",
              "            style=\"display:none;\">\n",
              "\n",
              "  <svg xmlns=\"http://www.w3.org/2000/svg\" height=\"24px\" viewBox=\"0 -960 960 960\">\n",
              "    <path d=\"M120-120v-720h720v720H120Zm60-500h600v-160H180v160Zm220 220h160v-160H400v160Zm0 220h160v-160H400v160ZM180-400h160v-160H180v160Zm440 0h160v-160H620v160ZM180-180h160v-160H180v160Zm440 0h160v-160H620v160Z\"/>\n",
              "  </svg>\n",
              "    </button>\n",
              "\n",
              "  <style>\n",
              "    .colab-df-container {\n",
              "      display:flex;\n",
              "      gap: 12px;\n",
              "    }\n",
              "\n",
              "    .colab-df-convert {\n",
              "      background-color: #E8F0FE;\n",
              "      border: none;\n",
              "      border-radius: 50%;\n",
              "      cursor: pointer;\n",
              "      display: none;\n",
              "      fill: #1967D2;\n",
              "      height: 32px;\n",
              "      padding: 0 0 0 0;\n",
              "      width: 32px;\n",
              "    }\n",
              "\n",
              "    .colab-df-convert:hover {\n",
              "      background-color: #E2EBFA;\n",
              "      box-shadow: 0px 1px 2px rgba(60, 64, 67, 0.3), 0px 1px 3px 1px rgba(60, 64, 67, 0.15);\n",
              "      fill: #174EA6;\n",
              "    }\n",
              "\n",
              "    .colab-df-buttons div {\n",
              "      margin-bottom: 4px;\n",
              "    }\n",
              "\n",
              "    [theme=dark] .colab-df-convert {\n",
              "      background-color: #3B4455;\n",
              "      fill: #D2E3FC;\n",
              "    }\n",
              "\n",
              "    [theme=dark] .colab-df-convert:hover {\n",
              "      background-color: #434B5C;\n",
              "      box-shadow: 0px 1px 3px 1px rgba(0, 0, 0, 0.15);\n",
              "      filter: drop-shadow(0px 1px 2px rgba(0, 0, 0, 0.3));\n",
              "      fill: #FFFFFF;\n",
              "    }\n",
              "  </style>\n",
              "\n",
              "    <script>\n",
              "      const buttonEl =\n",
              "        document.querySelector('#df-7553e1fd-0658-4564-b28c-060ce1111e5d button.colab-df-convert');\n",
              "      buttonEl.style.display =\n",
              "        google.colab.kernel.accessAllowed ? 'block' : 'none';\n",
              "\n",
              "      async function convertToInteractive(key) {\n",
              "        const element = document.querySelector('#df-7553e1fd-0658-4564-b28c-060ce1111e5d');\n",
              "        const dataTable =\n",
              "          await google.colab.kernel.invokeFunction('convertToInteractive',\n",
              "                                                    [key], {});\n",
              "        if (!dataTable) return;\n",
              "\n",
              "        const docLinkHtml = 'Like what you see? Visit the ' +\n",
              "          '<a target=\"_blank\" href=https://colab.research.google.com/notebooks/data_table.ipynb>data table notebook</a>'\n",
              "          + ' to learn more about interactive tables.';\n",
              "        element.innerHTML = '';\n",
              "        dataTable['output_type'] = 'display_data';\n",
              "        await google.colab.output.renderOutput(dataTable, element);\n",
              "        const docLink = document.createElement('div');\n",
              "        docLink.innerHTML = docLinkHtml;\n",
              "        element.appendChild(docLink);\n",
              "      }\n",
              "    </script>\n",
              "  </div>\n",
              "\n",
              "\n",
              "<div id=\"df-d5800fb7-a1c7-4f96-ae14-d59225f98ba4\">\n",
              "  <button class=\"colab-df-quickchart\" onclick=\"quickchart('df-d5800fb7-a1c7-4f96-ae14-d59225f98ba4')\"\n",
              "            title=\"Suggest charts\"\n",
              "            style=\"display:none;\">\n",
              "\n",
              "<svg xmlns=\"http://www.w3.org/2000/svg\" height=\"24px\"viewBox=\"0 0 24 24\"\n",
              "     width=\"24px\">\n",
              "    <g>\n",
              "        <path d=\"M19 3H5c-1.1 0-2 .9-2 2v14c0 1.1.9 2 2 2h14c1.1 0 2-.9 2-2V5c0-1.1-.9-2-2-2zM9 17H7v-7h2v7zm4 0h-2V7h2v10zm4 0h-2v-4h2v4z\"/>\n",
              "    </g>\n",
              "</svg>\n",
              "  </button>\n",
              "\n",
              "<style>\n",
              "  .colab-df-quickchart {\n",
              "      --bg-color: #E8F0FE;\n",
              "      --fill-color: #1967D2;\n",
              "      --hover-bg-color: #E2EBFA;\n",
              "      --hover-fill-color: #174EA6;\n",
              "      --disabled-fill-color: #AAA;\n",
              "      --disabled-bg-color: #DDD;\n",
              "  }\n",
              "\n",
              "  [theme=dark] .colab-df-quickchart {\n",
              "      --bg-color: #3B4455;\n",
              "      --fill-color: #D2E3FC;\n",
              "      --hover-bg-color: #434B5C;\n",
              "      --hover-fill-color: #FFFFFF;\n",
              "      --disabled-bg-color: #3B4455;\n",
              "      --disabled-fill-color: #666;\n",
              "  }\n",
              "\n",
              "  .colab-df-quickchart {\n",
              "    background-color: var(--bg-color);\n",
              "    border: none;\n",
              "    border-radius: 50%;\n",
              "    cursor: pointer;\n",
              "    display: none;\n",
              "    fill: var(--fill-color);\n",
              "    height: 32px;\n",
              "    padding: 0;\n",
              "    width: 32px;\n",
              "  }\n",
              "\n",
              "  .colab-df-quickchart:hover {\n",
              "    background-color: var(--hover-bg-color);\n",
              "    box-shadow: 0 1px 2px rgba(60, 64, 67, 0.3), 0 1px 3px 1px rgba(60, 64, 67, 0.15);\n",
              "    fill: var(--button-hover-fill-color);\n",
              "  }\n",
              "\n",
              "  .colab-df-quickchart-complete:disabled,\n",
              "  .colab-df-quickchart-complete:disabled:hover {\n",
              "    background-color: var(--disabled-bg-color);\n",
              "    fill: var(--disabled-fill-color);\n",
              "    box-shadow: none;\n",
              "  }\n",
              "\n",
              "  .colab-df-spinner {\n",
              "    border: 2px solid var(--fill-color);\n",
              "    border-color: transparent;\n",
              "    border-bottom-color: var(--fill-color);\n",
              "    animation:\n",
              "      spin 1s steps(1) infinite;\n",
              "  }\n",
              "\n",
              "  @keyframes spin {\n",
              "    0% {\n",
              "      border-color: transparent;\n",
              "      border-bottom-color: var(--fill-color);\n",
              "      border-left-color: var(--fill-color);\n",
              "    }\n",
              "    20% {\n",
              "      border-color: transparent;\n",
              "      border-left-color: var(--fill-color);\n",
              "      border-top-color: var(--fill-color);\n",
              "    }\n",
              "    30% {\n",
              "      border-color: transparent;\n",
              "      border-left-color: var(--fill-color);\n",
              "      border-top-color: var(--fill-color);\n",
              "      border-right-color: var(--fill-color);\n",
              "    }\n",
              "    40% {\n",
              "      border-color: transparent;\n",
              "      border-right-color: var(--fill-color);\n",
              "      border-top-color: var(--fill-color);\n",
              "    }\n",
              "    60% {\n",
              "      border-color: transparent;\n",
              "      border-right-color: var(--fill-color);\n",
              "    }\n",
              "    80% {\n",
              "      border-color: transparent;\n",
              "      border-right-color: var(--fill-color);\n",
              "      border-bottom-color: var(--fill-color);\n",
              "    }\n",
              "    90% {\n",
              "      border-color: transparent;\n",
              "      border-bottom-color: var(--fill-color);\n",
              "    }\n",
              "  }\n",
              "</style>\n",
              "\n",
              "  <script>\n",
              "    async function quickchart(key) {\n",
              "      const quickchartButtonEl =\n",
              "        document.querySelector('#' + key + ' button');\n",
              "      quickchartButtonEl.disabled = true;  // To prevent multiple clicks.\n",
              "      quickchartButtonEl.classList.add('colab-df-spinner');\n",
              "      try {\n",
              "        const charts = await google.colab.kernel.invokeFunction(\n",
              "            'suggestCharts', [key], {});\n",
              "      } catch (error) {\n",
              "        console.error('Error during call to suggestCharts:', error);\n",
              "      }\n",
              "      quickchartButtonEl.classList.remove('colab-df-spinner');\n",
              "      quickchartButtonEl.classList.add('colab-df-quickchart-complete');\n",
              "    }\n",
              "    (() => {\n",
              "      let quickchartButtonEl =\n",
              "        document.querySelector('#df-d5800fb7-a1c7-4f96-ae14-d59225f98ba4 button');\n",
              "      quickchartButtonEl.style.display =\n",
              "        google.colab.kernel.accessAllowed ? 'block' : 'none';\n",
              "    })();\n",
              "  </script>\n",
              "</div>\n",
              "    </div>\n",
              "  </div>\n"
            ]
          },
          "metadata": {},
          "execution_count": 3
        }
      ]
    },
    {
      "cell_type": "code",
      "source": [
        "#DataFrame retornando apenas dados da classe maligno para testes\n",
        "M = X[X['class'] == 'M']\n",
        "M.head(100)"
      ],
      "metadata": {
        "colab": {
          "base_uri": "https://localhost:8080/",
          "height": 444
        },
        "id": "BTTTOLadWTF8",
        "outputId": "0e20b769-1d04-4eec-92ff-5eceb0323416"
      },
      "execution_count": null,
      "outputs": [
        {
          "output_type": "execute_result",
          "data": {
            "text/plain": [
              "     x.radius_mean  x.texture_mean  x.perimeter_mean  x.area_mean  \\\n",
              "201          20.57           17.77            132.90       1326.0   \n",
              "202          19.69           21.25            130.00       1203.0   \n",
              "203          11.42           20.38             77.58        386.1   \n",
              "204          20.29           14.34            135.10       1297.0   \n",
              "205          12.45           15.70             82.57        477.1   \n",
              "..             ...             ...               ...          ...   \n",
              "296          20.58           22.14            134.70       1290.0   \n",
              "297          14.19           23.81             92.87        610.7   \n",
              "298          13.86           16.93             90.96        578.9   \n",
              "299          19.53           32.47            128.00       1223.0   \n",
              "300          15.75           20.25            102.60        761.3   \n",
              "\n",
              "     x.smoothness_mean  x.compactness_mean  x.concavity_mean  \\\n",
              "201            0.08474             0.07864           0.08690   \n",
              "202            0.10960             0.15990           0.19740   \n",
              "203            0.14250             0.28390           0.24140   \n",
              "204            0.10030             0.13280           0.19800   \n",
              "205            0.12780             0.17000           0.15780   \n",
              "..                 ...                 ...               ...   \n",
              "296            0.09090             0.13480           0.16400   \n",
              "297            0.09463             0.13060           0.11150   \n",
              "298            0.10260             0.15170           0.09901   \n",
              "299            0.08420             0.11300           0.11450   \n",
              "300            0.10250             0.12040           0.11470   \n",
              "\n",
              "     x.concave_pts_mean  x.symmetry_mean  x.fractal_dim_mean  ...  \\\n",
              "201             0.07017           0.1812             0.05667  ...   \n",
              "202             0.12790           0.2069             0.05999  ...   \n",
              "203             0.10520           0.2597             0.09744  ...   \n",
              "204             0.10430           0.1809             0.05883  ...   \n",
              "205             0.08089           0.2087             0.07613  ...   \n",
              "..                  ...              ...                 ...  ...   \n",
              "296             0.09561           0.1765             0.05024  ...   \n",
              "297             0.06462           0.2235             0.06433  ...   \n",
              "298             0.05602           0.2106             0.06916  ...   \n",
              "299             0.06637           0.1428             0.05313  ...   \n",
              "300             0.06462           0.1935             0.06303  ...   \n",
              "\n",
              "     x.perimeter_worst  x.area_worst  x.smoothness_worst  x.compactness_worst  \\\n",
              "201             158.80        1956.0              0.1238               0.1866   \n",
              "202             152.50        1709.0              0.1444               0.4245   \n",
              "203              98.87         567.7              0.2098               0.8663   \n",
              "204             152.20        1575.0              0.1374               0.2050   \n",
              "205             103.40         741.6              0.1791               0.5249   \n",
              "..                 ...           ...                 ...                  ...   \n",
              "296             158.30        1656.0              0.1178               0.2920   \n",
              "297             115.00         811.3              0.1559               0.4059   \n",
              "298             104.40         750.1              0.1460               0.4370   \n",
              "299             180.20        2477.0              0.1408               0.4097   \n",
              "300             125.90        1088.0              0.1552               0.4480   \n",
              "\n",
              "     x.concavity_worst  x.concave_pts_worst  x.symmetry_worst  \\\n",
              "201             0.2416               0.1860            0.2750   \n",
              "202             0.4504               0.2430            0.3613   \n",
              "203             0.6869               0.2575            0.6638   \n",
              "204             0.4000               0.1625            0.2364   \n",
              "205             0.5355               0.1741            0.3985   \n",
              "..                 ...                  ...               ...   \n",
              "296             0.3861               0.1920            0.2909   \n",
              "297             0.3744               0.1772            0.4724   \n",
              "298             0.4636               0.1654            0.3630   \n",
              "299             0.3995               0.1625            0.2713   \n",
              "300             0.3976               0.1479            0.3993   \n",
              "\n",
              "     x.fractal_dim_worst  class  target  \n",
              "201              0.08902      M       0  \n",
              "202              0.08758      M       0  \n",
              "203              0.17300      M       0  \n",
              "204              0.07678      M       0  \n",
              "205              0.12440      M       0  \n",
              "..                   ...    ...     ...  \n",
              "296              0.05865      M       0  \n",
              "297              0.10260      M       0  \n",
              "298              0.10590      M       0  \n",
              "299              0.07568      M       0  \n",
              "300              0.10640      M       0  \n",
              "\n",
              "[100 rows x 32 columns]"
            ],
            "text/html": [
              "\n",
              "  <div id=\"df-57bd2b8b-e919-4ce6-92f9-85b89667c0aa\" class=\"colab-df-container\">\n",
              "    <div>\n",
              "<style scoped>\n",
              "    .dataframe tbody tr th:only-of-type {\n",
              "        vertical-align: middle;\n",
              "    }\n",
              "\n",
              "    .dataframe tbody tr th {\n",
              "        vertical-align: top;\n",
              "    }\n",
              "\n",
              "    .dataframe thead th {\n",
              "        text-align: right;\n",
              "    }\n",
              "</style>\n",
              "<table border=\"1\" class=\"dataframe\">\n",
              "  <thead>\n",
              "    <tr style=\"text-align: right;\">\n",
              "      <th></th>\n",
              "      <th>x.radius_mean</th>\n",
              "      <th>x.texture_mean</th>\n",
              "      <th>x.perimeter_mean</th>\n",
              "      <th>x.area_mean</th>\n",
              "      <th>x.smoothness_mean</th>\n",
              "      <th>x.compactness_mean</th>\n",
              "      <th>x.concavity_mean</th>\n",
              "      <th>x.concave_pts_mean</th>\n",
              "      <th>x.symmetry_mean</th>\n",
              "      <th>x.fractal_dim_mean</th>\n",
              "      <th>...</th>\n",
              "      <th>x.perimeter_worst</th>\n",
              "      <th>x.area_worst</th>\n",
              "      <th>x.smoothness_worst</th>\n",
              "      <th>x.compactness_worst</th>\n",
              "      <th>x.concavity_worst</th>\n",
              "      <th>x.concave_pts_worst</th>\n",
              "      <th>x.symmetry_worst</th>\n",
              "      <th>x.fractal_dim_worst</th>\n",
              "      <th>class</th>\n",
              "      <th>target</th>\n",
              "    </tr>\n",
              "  </thead>\n",
              "  <tbody>\n",
              "    <tr>\n",
              "      <th>201</th>\n",
              "      <td>20.57</td>\n",
              "      <td>17.77</td>\n",
              "      <td>132.90</td>\n",
              "      <td>1326.0</td>\n",
              "      <td>0.08474</td>\n",
              "      <td>0.07864</td>\n",
              "      <td>0.08690</td>\n",
              "      <td>0.07017</td>\n",
              "      <td>0.1812</td>\n",
              "      <td>0.05667</td>\n",
              "      <td>...</td>\n",
              "      <td>158.80</td>\n",
              "      <td>1956.0</td>\n",
              "      <td>0.1238</td>\n",
              "      <td>0.1866</td>\n",
              "      <td>0.2416</td>\n",
              "      <td>0.1860</td>\n",
              "      <td>0.2750</td>\n",
              "      <td>0.08902</td>\n",
              "      <td>M</td>\n",
              "      <td>0</td>\n",
              "    </tr>\n",
              "    <tr>\n",
              "      <th>202</th>\n",
              "      <td>19.69</td>\n",
              "      <td>21.25</td>\n",
              "      <td>130.00</td>\n",
              "      <td>1203.0</td>\n",
              "      <td>0.10960</td>\n",
              "      <td>0.15990</td>\n",
              "      <td>0.19740</td>\n",
              "      <td>0.12790</td>\n",
              "      <td>0.2069</td>\n",
              "      <td>0.05999</td>\n",
              "      <td>...</td>\n",
              "      <td>152.50</td>\n",
              "      <td>1709.0</td>\n",
              "      <td>0.1444</td>\n",
              "      <td>0.4245</td>\n",
              "      <td>0.4504</td>\n",
              "      <td>0.2430</td>\n",
              "      <td>0.3613</td>\n",
              "      <td>0.08758</td>\n",
              "      <td>M</td>\n",
              "      <td>0</td>\n",
              "    </tr>\n",
              "    <tr>\n",
              "      <th>203</th>\n",
              "      <td>11.42</td>\n",
              "      <td>20.38</td>\n",
              "      <td>77.58</td>\n",
              "      <td>386.1</td>\n",
              "      <td>0.14250</td>\n",
              "      <td>0.28390</td>\n",
              "      <td>0.24140</td>\n",
              "      <td>0.10520</td>\n",
              "      <td>0.2597</td>\n",
              "      <td>0.09744</td>\n",
              "      <td>...</td>\n",
              "      <td>98.87</td>\n",
              "      <td>567.7</td>\n",
              "      <td>0.2098</td>\n",
              "      <td>0.8663</td>\n",
              "      <td>0.6869</td>\n",
              "      <td>0.2575</td>\n",
              "      <td>0.6638</td>\n",
              "      <td>0.17300</td>\n",
              "      <td>M</td>\n",
              "      <td>0</td>\n",
              "    </tr>\n",
              "    <tr>\n",
              "      <th>204</th>\n",
              "      <td>20.29</td>\n",
              "      <td>14.34</td>\n",
              "      <td>135.10</td>\n",
              "      <td>1297.0</td>\n",
              "      <td>0.10030</td>\n",
              "      <td>0.13280</td>\n",
              "      <td>0.19800</td>\n",
              "      <td>0.10430</td>\n",
              "      <td>0.1809</td>\n",
              "      <td>0.05883</td>\n",
              "      <td>...</td>\n",
              "      <td>152.20</td>\n",
              "      <td>1575.0</td>\n",
              "      <td>0.1374</td>\n",
              "      <td>0.2050</td>\n",
              "      <td>0.4000</td>\n",
              "      <td>0.1625</td>\n",
              "      <td>0.2364</td>\n",
              "      <td>0.07678</td>\n",
              "      <td>M</td>\n",
              "      <td>0</td>\n",
              "    </tr>\n",
              "    <tr>\n",
              "      <th>205</th>\n",
              "      <td>12.45</td>\n",
              "      <td>15.70</td>\n",
              "      <td>82.57</td>\n",
              "      <td>477.1</td>\n",
              "      <td>0.12780</td>\n",
              "      <td>0.17000</td>\n",
              "      <td>0.15780</td>\n",
              "      <td>0.08089</td>\n",
              "      <td>0.2087</td>\n",
              "      <td>0.07613</td>\n",
              "      <td>...</td>\n",
              "      <td>103.40</td>\n",
              "      <td>741.6</td>\n",
              "      <td>0.1791</td>\n",
              "      <td>0.5249</td>\n",
              "      <td>0.5355</td>\n",
              "      <td>0.1741</td>\n",
              "      <td>0.3985</td>\n",
              "      <td>0.12440</td>\n",
              "      <td>M</td>\n",
              "      <td>0</td>\n",
              "    </tr>\n",
              "    <tr>\n",
              "      <th>...</th>\n",
              "      <td>...</td>\n",
              "      <td>...</td>\n",
              "      <td>...</td>\n",
              "      <td>...</td>\n",
              "      <td>...</td>\n",
              "      <td>...</td>\n",
              "      <td>...</td>\n",
              "      <td>...</td>\n",
              "      <td>...</td>\n",
              "      <td>...</td>\n",
              "      <td>...</td>\n",
              "      <td>...</td>\n",
              "      <td>...</td>\n",
              "      <td>...</td>\n",
              "      <td>...</td>\n",
              "      <td>...</td>\n",
              "      <td>...</td>\n",
              "      <td>...</td>\n",
              "      <td>...</td>\n",
              "      <td>...</td>\n",
              "      <td>...</td>\n",
              "    </tr>\n",
              "    <tr>\n",
              "      <th>296</th>\n",
              "      <td>20.58</td>\n",
              "      <td>22.14</td>\n",
              "      <td>134.70</td>\n",
              "      <td>1290.0</td>\n",
              "      <td>0.09090</td>\n",
              "      <td>0.13480</td>\n",
              "      <td>0.16400</td>\n",
              "      <td>0.09561</td>\n",
              "      <td>0.1765</td>\n",
              "      <td>0.05024</td>\n",
              "      <td>...</td>\n",
              "      <td>158.30</td>\n",
              "      <td>1656.0</td>\n",
              "      <td>0.1178</td>\n",
              "      <td>0.2920</td>\n",
              "      <td>0.3861</td>\n",
              "      <td>0.1920</td>\n",
              "      <td>0.2909</td>\n",
              "      <td>0.05865</td>\n",
              "      <td>M</td>\n",
              "      <td>0</td>\n",
              "    </tr>\n",
              "    <tr>\n",
              "      <th>297</th>\n",
              "      <td>14.19</td>\n",
              "      <td>23.81</td>\n",
              "      <td>92.87</td>\n",
              "      <td>610.7</td>\n",
              "      <td>0.09463</td>\n",
              "      <td>0.13060</td>\n",
              "      <td>0.11150</td>\n",
              "      <td>0.06462</td>\n",
              "      <td>0.2235</td>\n",
              "      <td>0.06433</td>\n",
              "      <td>...</td>\n",
              "      <td>115.00</td>\n",
              "      <td>811.3</td>\n",
              "      <td>0.1559</td>\n",
              "      <td>0.4059</td>\n",
              "      <td>0.3744</td>\n",
              "      <td>0.1772</td>\n",
              "      <td>0.4724</td>\n",
              "      <td>0.10260</td>\n",
              "      <td>M</td>\n",
              "      <td>0</td>\n",
              "    </tr>\n",
              "    <tr>\n",
              "      <th>298</th>\n",
              "      <td>13.86</td>\n",
              "      <td>16.93</td>\n",
              "      <td>90.96</td>\n",
              "      <td>578.9</td>\n",
              "      <td>0.10260</td>\n",
              "      <td>0.15170</td>\n",
              "      <td>0.09901</td>\n",
              "      <td>0.05602</td>\n",
              "      <td>0.2106</td>\n",
              "      <td>0.06916</td>\n",
              "      <td>...</td>\n",
              "      <td>104.40</td>\n",
              "      <td>750.1</td>\n",
              "      <td>0.1460</td>\n",
              "      <td>0.4370</td>\n",
              "      <td>0.4636</td>\n",
              "      <td>0.1654</td>\n",
              "      <td>0.3630</td>\n",
              "      <td>0.10590</td>\n",
              "      <td>M</td>\n",
              "      <td>0</td>\n",
              "    </tr>\n",
              "    <tr>\n",
              "      <th>299</th>\n",
              "      <td>19.53</td>\n",
              "      <td>32.47</td>\n",
              "      <td>128.00</td>\n",
              "      <td>1223.0</td>\n",
              "      <td>0.08420</td>\n",
              "      <td>0.11300</td>\n",
              "      <td>0.11450</td>\n",
              "      <td>0.06637</td>\n",
              "      <td>0.1428</td>\n",
              "      <td>0.05313</td>\n",
              "      <td>...</td>\n",
              "      <td>180.20</td>\n",
              "      <td>2477.0</td>\n",
              "      <td>0.1408</td>\n",
              "      <td>0.4097</td>\n",
              "      <td>0.3995</td>\n",
              "      <td>0.1625</td>\n",
              "      <td>0.2713</td>\n",
              "      <td>0.07568</td>\n",
              "      <td>M</td>\n",
              "      <td>0</td>\n",
              "    </tr>\n",
              "    <tr>\n",
              "      <th>300</th>\n",
              "      <td>15.75</td>\n",
              "      <td>20.25</td>\n",
              "      <td>102.60</td>\n",
              "      <td>761.3</td>\n",
              "      <td>0.10250</td>\n",
              "      <td>0.12040</td>\n",
              "      <td>0.11470</td>\n",
              "      <td>0.06462</td>\n",
              "      <td>0.1935</td>\n",
              "      <td>0.06303</td>\n",
              "      <td>...</td>\n",
              "      <td>125.90</td>\n",
              "      <td>1088.0</td>\n",
              "      <td>0.1552</td>\n",
              "      <td>0.4480</td>\n",
              "      <td>0.3976</td>\n",
              "      <td>0.1479</td>\n",
              "      <td>0.3993</td>\n",
              "      <td>0.10640</td>\n",
              "      <td>M</td>\n",
              "      <td>0</td>\n",
              "    </tr>\n",
              "  </tbody>\n",
              "</table>\n",
              "<p>100 rows × 32 columns</p>\n",
              "</div>\n",
              "    <div class=\"colab-df-buttons\">\n",
              "\n",
              "  <div class=\"colab-df-container\">\n",
              "    <button class=\"colab-df-convert\" onclick=\"convertToInteractive('df-57bd2b8b-e919-4ce6-92f9-85b89667c0aa')\"\n",
              "            title=\"Convert this dataframe to an interactive table.\"\n",
              "            style=\"display:none;\">\n",
              "\n",
              "  <svg xmlns=\"http://www.w3.org/2000/svg\" height=\"24px\" viewBox=\"0 -960 960 960\">\n",
              "    <path d=\"M120-120v-720h720v720H120Zm60-500h600v-160H180v160Zm220 220h160v-160H400v160Zm0 220h160v-160H400v160ZM180-400h160v-160H180v160Zm440 0h160v-160H620v160ZM180-180h160v-160H180v160Zm440 0h160v-160H620v160Z\"/>\n",
              "  </svg>\n",
              "    </button>\n",
              "\n",
              "  <style>\n",
              "    .colab-df-container {\n",
              "      display:flex;\n",
              "      gap: 12px;\n",
              "    }\n",
              "\n",
              "    .colab-df-convert {\n",
              "      background-color: #E8F0FE;\n",
              "      border: none;\n",
              "      border-radius: 50%;\n",
              "      cursor: pointer;\n",
              "      display: none;\n",
              "      fill: #1967D2;\n",
              "      height: 32px;\n",
              "      padding: 0 0 0 0;\n",
              "      width: 32px;\n",
              "    }\n",
              "\n",
              "    .colab-df-convert:hover {\n",
              "      background-color: #E2EBFA;\n",
              "      box-shadow: 0px 1px 2px rgba(60, 64, 67, 0.3), 0px 1px 3px 1px rgba(60, 64, 67, 0.15);\n",
              "      fill: #174EA6;\n",
              "    }\n",
              "\n",
              "    .colab-df-buttons div {\n",
              "      margin-bottom: 4px;\n",
              "    }\n",
              "\n",
              "    [theme=dark] .colab-df-convert {\n",
              "      background-color: #3B4455;\n",
              "      fill: #D2E3FC;\n",
              "    }\n",
              "\n",
              "    [theme=dark] .colab-df-convert:hover {\n",
              "      background-color: #434B5C;\n",
              "      box-shadow: 0px 1px 3px 1px rgba(0, 0, 0, 0.15);\n",
              "      filter: drop-shadow(0px 1px 2px rgba(0, 0, 0, 0.3));\n",
              "      fill: #FFFFFF;\n",
              "    }\n",
              "  </style>\n",
              "\n",
              "    <script>\n",
              "      const buttonEl =\n",
              "        document.querySelector('#df-57bd2b8b-e919-4ce6-92f9-85b89667c0aa button.colab-df-convert');\n",
              "      buttonEl.style.display =\n",
              "        google.colab.kernel.accessAllowed ? 'block' : 'none';\n",
              "\n",
              "      async function convertToInteractive(key) {\n",
              "        const element = document.querySelector('#df-57bd2b8b-e919-4ce6-92f9-85b89667c0aa');\n",
              "        const dataTable =\n",
              "          await google.colab.kernel.invokeFunction('convertToInteractive',\n",
              "                                                    [key], {});\n",
              "        if (!dataTable) return;\n",
              "\n",
              "        const docLinkHtml = 'Like what you see? Visit the ' +\n",
              "          '<a target=\"_blank\" href=https://colab.research.google.com/notebooks/data_table.ipynb>data table notebook</a>'\n",
              "          + ' to learn more about interactive tables.';\n",
              "        element.innerHTML = '';\n",
              "        dataTable['output_type'] = 'display_data';\n",
              "        await google.colab.output.renderOutput(dataTable, element);\n",
              "        const docLink = document.createElement('div');\n",
              "        docLink.innerHTML = docLinkHtml;\n",
              "        element.appendChild(docLink);\n",
              "      }\n",
              "    </script>\n",
              "  </div>\n",
              "\n",
              "\n",
              "<div id=\"df-579dcc3c-1fdb-4125-b0f3-ae4875e07936\">\n",
              "  <button class=\"colab-df-quickchart\" onclick=\"quickchart('df-579dcc3c-1fdb-4125-b0f3-ae4875e07936')\"\n",
              "            title=\"Suggest charts\"\n",
              "            style=\"display:none;\">\n",
              "\n",
              "<svg xmlns=\"http://www.w3.org/2000/svg\" height=\"24px\"viewBox=\"0 0 24 24\"\n",
              "     width=\"24px\">\n",
              "    <g>\n",
              "        <path d=\"M19 3H5c-1.1 0-2 .9-2 2v14c0 1.1.9 2 2 2h14c1.1 0 2-.9 2-2V5c0-1.1-.9-2-2-2zM9 17H7v-7h2v7zm4 0h-2V7h2v10zm4 0h-2v-4h2v4z\"/>\n",
              "    </g>\n",
              "</svg>\n",
              "  </button>\n",
              "\n",
              "<style>\n",
              "  .colab-df-quickchart {\n",
              "      --bg-color: #E8F0FE;\n",
              "      --fill-color: #1967D2;\n",
              "      --hover-bg-color: #E2EBFA;\n",
              "      --hover-fill-color: #174EA6;\n",
              "      --disabled-fill-color: #AAA;\n",
              "      --disabled-bg-color: #DDD;\n",
              "  }\n",
              "\n",
              "  [theme=dark] .colab-df-quickchart {\n",
              "      --bg-color: #3B4455;\n",
              "      --fill-color: #D2E3FC;\n",
              "      --hover-bg-color: #434B5C;\n",
              "      --hover-fill-color: #FFFFFF;\n",
              "      --disabled-bg-color: #3B4455;\n",
              "      --disabled-fill-color: #666;\n",
              "  }\n",
              "\n",
              "  .colab-df-quickchart {\n",
              "    background-color: var(--bg-color);\n",
              "    border: none;\n",
              "    border-radius: 50%;\n",
              "    cursor: pointer;\n",
              "    display: none;\n",
              "    fill: var(--fill-color);\n",
              "    height: 32px;\n",
              "    padding: 0;\n",
              "    width: 32px;\n",
              "  }\n",
              "\n",
              "  .colab-df-quickchart:hover {\n",
              "    background-color: var(--hover-bg-color);\n",
              "    box-shadow: 0 1px 2px rgba(60, 64, 67, 0.3), 0 1px 3px 1px rgba(60, 64, 67, 0.15);\n",
              "    fill: var(--button-hover-fill-color);\n",
              "  }\n",
              "\n",
              "  .colab-df-quickchart-complete:disabled,\n",
              "  .colab-df-quickchart-complete:disabled:hover {\n",
              "    background-color: var(--disabled-bg-color);\n",
              "    fill: var(--disabled-fill-color);\n",
              "    box-shadow: none;\n",
              "  }\n",
              "\n",
              "  .colab-df-spinner {\n",
              "    border: 2px solid var(--fill-color);\n",
              "    border-color: transparent;\n",
              "    border-bottom-color: var(--fill-color);\n",
              "    animation:\n",
              "      spin 1s steps(1) infinite;\n",
              "  }\n",
              "\n",
              "  @keyframes spin {\n",
              "    0% {\n",
              "      border-color: transparent;\n",
              "      border-bottom-color: var(--fill-color);\n",
              "      border-left-color: var(--fill-color);\n",
              "    }\n",
              "    20% {\n",
              "      border-color: transparent;\n",
              "      border-left-color: var(--fill-color);\n",
              "      border-top-color: var(--fill-color);\n",
              "    }\n",
              "    30% {\n",
              "      border-color: transparent;\n",
              "      border-left-color: var(--fill-color);\n",
              "      border-top-color: var(--fill-color);\n",
              "      border-right-color: var(--fill-color);\n",
              "    }\n",
              "    40% {\n",
              "      border-color: transparent;\n",
              "      border-right-color: var(--fill-color);\n",
              "      border-top-color: var(--fill-color);\n",
              "    }\n",
              "    60% {\n",
              "      border-color: transparent;\n",
              "      border-right-color: var(--fill-color);\n",
              "    }\n",
              "    80% {\n",
              "      border-color: transparent;\n",
              "      border-right-color: var(--fill-color);\n",
              "      border-bottom-color: var(--fill-color);\n",
              "    }\n",
              "    90% {\n",
              "      border-color: transparent;\n",
              "      border-bottom-color: var(--fill-color);\n",
              "    }\n",
              "  }\n",
              "</style>\n",
              "\n",
              "  <script>\n",
              "    async function quickchart(key) {\n",
              "      const quickchartButtonEl =\n",
              "        document.querySelector('#' + key + ' button');\n",
              "      quickchartButtonEl.disabled = true;  // To prevent multiple clicks.\n",
              "      quickchartButtonEl.classList.add('colab-df-spinner');\n",
              "      try {\n",
              "        const charts = await google.colab.kernel.invokeFunction(\n",
              "            'suggestCharts', [key], {});\n",
              "      } catch (error) {\n",
              "        console.error('Error during call to suggestCharts:', error);\n",
              "      }\n",
              "      quickchartButtonEl.classList.remove('colab-df-spinner');\n",
              "      quickchartButtonEl.classList.add('colab-df-quickchart-complete');\n",
              "    }\n",
              "    (() => {\n",
              "      let quickchartButtonEl =\n",
              "        document.querySelector('#df-579dcc3c-1fdb-4125-b0f3-ae4875e07936 button');\n",
              "      quickchartButtonEl.style.display =\n",
              "        google.colab.kernel.accessAllowed ? 'block' : 'none';\n",
              "    })();\n",
              "  </script>\n",
              "</div>\n",
              "    </div>\n",
              "  </div>\n"
            ]
          },
          "metadata": {},
          "execution_count": 4
        }
      ]
    },
    {
      "cell_type": "markdown",
      "source": [
        "Análise para identificação de valores únicos. Na situação a seguir, não é necessária a exclusão de nenhuma coluna uma vez que todas possuem mais de um valor único:"
      ],
      "metadata": {
        "id": "FCdIBp7OvK2v"
      }
    },
    {
      "cell_type": "code",
      "source": [
        "\n",
        "valores_unicos = []\n",
        "for i in cancer.columns[0:32].tolist():\n",
        "    print(i, ':', (len(cancer[i].astype(str).value_counts())))\n",
        "    valores_unicos.append(len(cancer[i].astype(str).value_counts()))\n"
      ],
      "metadata": {
        "id": "v4XUe0vU6GTo",
        "colab": {
          "base_uri": "https://localhost:8080/"
        },
        "outputId": "f4284ca5-42be-40fc-9419-5df2497251eb"
      },
      "execution_count": null,
      "outputs": [
        {
          "output_type": "stream",
          "name": "stdout",
          "text": [
            "x.radius_mean : 324\n",
            "x.texture_mean : 332\n",
            "x.perimeter_mean : 349\n",
            "x.area_mean : 363\n",
            "x.smoothness_mean : 332\n",
            "x.compactness_mean : 362\n",
            "x.concavity_mean : 359\n",
            "x.concave_pts_mean : 362\n",
            "x.symmetry_mean : 301\n",
            "x.fractal_dim_mean : 350\n",
            "x.radius_se : 362\n",
            "x.texture_se : 348\n",
            "x.perimeter_se : 358\n",
            "x.area_se : 358\n",
            "x.smoothness_se : 367\n",
            "x.compactness_se : 363\n",
            "x.concavity_se : 354\n",
            "x.concave_pts_se : 347\n",
            "x.symmetry_se : 342\n",
            "x.fractal_dim_se : 361\n",
            "x.radius_worst : 324\n",
            "x.texture_worst : 352\n",
            "x.perimeter_worst : 349\n",
            "x.area_worst : 362\n",
            "x.smoothness_worst : 301\n",
            "x.compactness_worst : 361\n",
            "x.concavity_worst : 356\n",
            "x.concave_pts_worst : 337\n",
            "x.symmetry_worst : 347\n",
            "x.fractal_dim_worst : 364\n",
            "class : 2\n",
            "target : 2\n"
          ]
        }
      ]
    },
    {
      "cell_type": "markdown",
      "source": [
        "Divide o DataFrame em duas bases(Maligno e Benigno) para serem analisadas:"
      ],
      "metadata": {
        "id": "2qZ50Xu-v5ma"
      }
    },
    {
      "cell_type": "code",
      "source": [
        "descricao =list(X.columns[0:10])\n",
        "\n",
        "\n",
        "\n",
        "XM=X[X['target'] == 0]\n",
        "XB=X[X['target'] == 1]"
      ],
      "metadata": {
        "id": "vGZPcr6kUySw"
      },
      "execution_count": null,
      "outputs": []
    },
    {
      "cell_type": "markdown",
      "source": [
        "Análise dos histogramas:\n",
        "\n",
        "As médias dos valores de radius, perimeter, area, compactness, concavity and concave points podem ser usadas na classificação do câncer. Valores maiores desses parâmetros tendem a mostrar uma correlação com tumores malignos.\n",
        "\n",
        "As médias dos valores de  texture, smoothness, symmetry or fractual dimension não demonstram uma preferência particular por um diagnóstico em relação ao outro. Em nenhum dos histogramas, há notáveis valores discrepantes (outliers) significativos que justifiquem uma limpeza adicional.\n"
      ],
      "metadata": {
        "id": "P11otcUxbH9P"
      }
    },
    {
      "cell_type": "code",
      "source": [
        "plt.rcParams.update({'font.size': 8})\n",
        "fig, axes = plt.subplots(nrows=5, ncols=2, figsize=(8,10))\n",
        "axes = axes.ravel()\n",
        "for i, ax in enumerate(axes):\n",
        "\n",
        "    ax.figure\n",
        "    tamanho= (max(X[descricao[i]]) - min(X[descricao[i]]))/50\n",
        "    ax.hist([XM[descricao[i]],XB[descricao[i]]],\n",
        "    bins= np.arange(min(X[descricao[i]]), max(X[descricao[i]]) + tamanho, tamanho), alpha=0.5, stacked=True,\n",
        "    label=['M','B'], color=['r','g'])\n",
        "    ax.legend(loc='upper right')\n",
        "    ax.set_title(descricao[i])\n",
        "\n",
        "plt.tight_layout()\n",
        "plt.show()"
      ],
      "metadata": {
        "id": "LMUQlI2mRKCt",
        "colab": {
          "base_uri": "https://localhost:8080/",
          "height": 1000
        },
        "outputId": "c21787eb-2616-499a-f6d2-cefc051202ac"
      },
      "execution_count": null,
      "outputs": [
        {
          "output_type": "display_data",
          "data": {
            "text/plain": [
              "<Figure size 800x1000 with 10 Axes>"
            ],
            "image/png": "[encoded data removed]"
          },
          "metadata": {}
        }
      ]
    },
    {
      "cell_type": "code",
      "source": [
        "#CRIANDO UM TESTE E TREINADO, E TAMBEM HÁ UMA DIVISÃO DO DATAFRAME\n",
        "treinoX, testeX = train_test_split(X, test_size = 0.2, random_state = 45)\n"
      ],
      "metadata": {
        "id": "dzbxBTWRcM5R"
      },
      "execution_count": null,
      "outputs": []
    },
    {
      "cell_type": "code",
      "source": [
        "def classificacao(modelo, data, previsoes, alvo):\n",
        "\n",
        "  # Ajusta o modelo:\n",
        "  modelo.fit(data[previsoes], data[alvo])\n",
        "\n",
        "  # Faz previsões no conjunto de treinamento:\n",
        "  previ = modelo.predict(data[previsoes])\n",
        "\n",
        "  # Imprime a precisão\n",
        "  accuracy = metrics.accuracy_score(previ, data[alvo])\n",
        "  print(\"Acurácia : %s\" % \"{0:.3%}\".format(accuracy))\n",
        "\n",
        "  # Realiza validação cruzada k-fold com 5 dobras\n",
        "  kf = KFold(n_splits=5)\n",
        "  erro = []\n",
        "  for treino, teste in kf.split(data):\n",
        "    # Filtra os dados de treinamento\n",
        "    treinar_preditor = (data[previsoes].iloc[treino, :])\n",
        "\n",
        "    # O alvo que estamos usando para treinar o algoritmo.\n",
        "    treinar_target = data[alvo].iloc[treino]\n",
        "\n",
        "    # Treinando o algoritmo usando os recursos e o alvo.\n",
        "    modelo.fit(treinar_preditor, treinar_target)\n",
        "\n",
        "    # Registra o erro de cada execução de validação cruzada\n",
        "    erro.append(modelo.score(data[previsoes].iloc[teste, :], data[alvo].iloc[teste]))\n",
        "\n",
        "    print(\"Pontuação de Validação Cruzada : %s\" % \"{0:.3%}\".format(np.mean(erro)))\n",
        "\n",
        "  # Ajusta o modelo novamente para que ele possa ser referenciado fora da função:\n",
        "  modelo.fit(data[previsoes], data[alvo])\n",
        "\n"
      ],
      "metadata": {
        "id": "GgkPwjkuPS_m"
      },
      "execution_count": null,
      "outputs": []
    },
    {
      "cell_type": "markdown",
      "source": [
        "Na célula a seguir, verifica-se qual é o melhor modelo para nosso projeto. Com base nessa análise, árvore de decisão e rede neural são as melhores. Entretanto, escolhemos árvore de decisão pois é utilizada para problemas mais simples e nossa base de dados não é tão complexa. Além disso, a rede neural demora mais para ser treinada e consome mais recurso computacional em relação à árvore de decisão."
      ],
      "metadata": {
        "id": "9dpnnef1290J"
      }
    },
    {
      "cell_type": "code",
      "source": [
        "\n",
        "# Carregando os dados\n",
        "df = pd.read_csv('breast_cancer_modificado.csv')\n",
        "\n",
        "# Dividindo os dados em features e target\n",
        "X = df.drop(['target', 'class'], axis=1)\n",
        "y = df['target']\n",
        "\n",
        "# Dividindo os dados em treino e teste\n",
        "X_train, X_test, y_train, y_test = train_test_split(X, y, test_size=0.2, random_state=42)\n",
        "\n",
        "# Treinando os modelos\n",
        "mlp = MLPClassifier(random_state=42)\n",
        "tree = DecisionTreeClassifier(random_state=42)\n",
        "knn = KNeighborsClassifier()\n",
        "logistic = LogisticRegression(random_state=42)\n",
        "nb = GaussianNB()\n",
        "\n",
        "classifiers = [mlp, tree, knn, logistic, nb]\n",
        "classifier_names = [\"Rede Neural\", \"Árvore de Decisão\", \"K-NN\", \"Regressão Logística\", \"Naive Bayes\"]\n",
        "\n",
        "# Armazenar as previsões para uma nova amostra\n",
        "new_sample = X_test.iloc[0:1]  # Usando a primeira amostra do conjunto de teste como exemplo\n",
        "\n",
        "predictions = {}\n",
        "\n",
        "# Avaliando e plotando as matrizes de confusão e classification reports\n",
        "for clf, clf_name in zip(classifiers, classifier_names):\n",
        "    clf.fit(X_train, y_train)\n",
        "    y_pred = clf.predict(X_test)\n",
        "    cm = confusion_matrix(y_test, y_pred)\n",
        "\n",
        "    plt.figure(figsize=(5, 4))\n",
        "    sns.heatmap(cm, annot=True, fmt=\"d\", cmap=\"Blues\", cbar=False)\n",
        "    plt.title(f'Confusion Matrix - {clf_name}')\n",
        "    plt.xlabel('Predições')\n",
        "    plt.ylabel('Real')\n",
        "    plt.show()\n",
        "\n",
        "    report = classification_report(y_test, y_pred)\n",
        "    print(f'Resultados para - {clf_name}:\\n{report}\\n{\"=\"*50}\\n')\n",
        "\n",
        "    # Fazendo previsões para a nova amostra\n",
        "    prediction = clf.predict(new_sample)\n",
        "    probability = clf.predict_proba(new_sample).max()\n",
        "    predictions[clf_name] = {'prediction': prediction[0], 'probability': probability}\n",
        "\n",
        "# Imprimindo as previsões para a nova amostra\n",
        "print(\"\\nPrevisões para a nova amostra:\")\n",
        "for clf_name, result in predictions.items():\n",
        "    print(f\"{clf_name}: Classe {result['prediction']}, Certeza: {result['probability'] * 100:.2f}%\")\n"
      ],
      "metadata": {
        "colab": {
          "base_uri": "https://localhost:8080/",
          "height": 1000
        },
        "id": "Mvuy3gF_mfyZ",
        "outputId": "4cf6db24-7e46-437f-eac6-b51945d555b4"
      },
      "execution_count": null,
      "outputs": [
        {
          "output_type": "stream",
          "name": "stderr",
          "text": [
            "/usr/local/lib/python3.10/dist-packages/sklearn/neural_network/_multilayer_perceptron.py:686: ConvergenceWarning: Stochastic Optimizer: Maximum iterations (200) reached and the optimization hasn't converged yet.\n",
            "  warnings.warn(\n"
          ]
        },
        {
          "output_type": "display_data",
          "data": {
            "text/plain": [
              "<Figure size 500x400 with 1 Axes>"
            ],
            "image/png": "[encoded data removed]"
          },
          "metadata": {}
        },
        {
          "output_type": "stream",
          "name": "stdout",
          "text": [
            "Resultados para - Rede Neural:\n",
            "              precision    recall  f1-score   support\n",
            "\n",
            "           0       1.00      0.97      0.99        39\n",
            "           1       0.98      1.00      0.99        46\n",
            "\n",
            "    accuracy                           0.99        85\n",
            "   macro avg       0.99      0.99      0.99        85\n",
            "weighted avg       0.99      0.99      0.99        85\n",
            "\n",
            "==================================================\n",
            "\n"
          ]
        },
        {
          "output_type": "display_data",
          "data": {
            "text/plain": [
              "<Figure size 500x400 with 1 Axes>"
            ],
            "image/png": "[encoded data removed]"
          },
          "metadata": {}
        },
        {
          "output_type": "stream",
          "name": "stdout",
          "text": [
            "Resultados para - Árvore de Decisão:\n",
            "              precision    recall  f1-score   support\n",
            "\n",
            "           0       0.93      0.97      0.95        39\n",
            "           1       0.98      0.93      0.96        46\n",
            "\n",
            "    accuracy                           0.95        85\n",
            "   macro avg       0.95      0.95      0.95        85\n",
            "weighted avg       0.95      0.95      0.95        85\n",
            "\n",
            "==================================================\n",
            "\n"
          ]
        },
        {
          "output_type": "display_data",
          "data": {
            "text/plain": [
              "<Figure size 500x400 with 1 Axes>"
            ],
            "image/png": "[encoded data removed]"
          },
          "metadata": {}
        },
        {
          "output_type": "stream",
          "name": "stdout",
          "text": [
            "Resultados para - K-NN:\n",
            "              precision    recall  f1-score   support\n",
            "\n",
            "           0       0.92      0.87      0.89        39\n",
            "           1       0.90      0.93      0.91        46\n",
            "\n",
            "    accuracy                           0.91        85\n",
            "   macro avg       0.91      0.90      0.90        85\n",
            "weighted avg       0.91      0.91      0.91        85\n",
            "\n",
            "==================================================\n",
            "\n"
          ]
        },
        {
          "output_type": "stream",
          "name": "stderr",
          "text": [
            "/usr/local/lib/python3.10/dist-packages/sklearn/linear_model/_logistic.py:458: ConvergenceWarning: lbfgs failed to converge (status=1):\n",
            "STOP: TOTAL NO. of ITERATIONS REACHED LIMIT.\n",
            "\n",
            "Increase the number of iterations (max_iter) or scale the data as shown in:\n",
            "    https://scikit-learn.org/stable/modules/preprocessing.html\n",
            "Please also refer to the documentation for alternative solver options:\n",
            "    https://scikit-learn.org/stable/modules/linear_model.html#logistic-regression\n",
            "  n_iter_i = _check_optimize_result(\n"
          ]
        },
        {
          "output_type": "display_data",
          "data": {
            "text/plain": [
              "<Figure size 500x400 with 1 Axes>"
            ],
            "image/png": "[encoded data removed]"
          },
          "metadata": {}
        },
        {
          "output_type": "stream",
          "name": "stdout",
          "text": [
            "Resultados para - Regressão Logística:\n",
            "              precision    recall  f1-score   support\n",
            "\n",
            "           0       0.92      0.90      0.91        39\n",
            "           1       0.91      0.93      0.92        46\n",
            "\n",
            "    accuracy                           0.92        85\n",
            "   macro avg       0.92      0.92      0.92        85\n",
            "weighted avg       0.92      0.92      0.92        85\n",
            "\n",
            "==================================================\n",
            "\n"
          ]
        },
        {
          "output_type": "display_data",
          "data": {
            "text/plain": [
              "<Figure size 500x400 with 1 Axes>"
            ],
            "image/png": "[encoded data removed]"
          },
          "metadata": {}
        },
        {
          "output_type": "stream",
          "name": "stdout",
          "text": [
            "Resultados para - Naive Bayes:\n",
            "              precision    recall  f1-score   support\n",
            "\n",
            "           0       0.95      0.92      0.94        39\n",
            "           1       0.94      0.96      0.95        46\n",
            "\n",
            "    accuracy                           0.94        85\n",
            "   macro avg       0.94      0.94      0.94        85\n",
            "weighted avg       0.94      0.94      0.94        85\n",
            "\n",
            "==================================================\n",
            "\n",
            "\n",
            "Previsões para a nova amostra:\n",
            "Rede Neural: Classe 1, Certeza: 97.32%\n",
            "Árvore de Decisão: Classe 1, Certeza: 100.00%\n",
            "K-NN: Classe 1, Certeza: 100.00%\n",
            "Regressão Logística: Classe 1, Certeza: 99.80%\n",
            "Naive Bayes: Classe 1, Certeza: 100.00%\n"
          ]
        }
      ]
    },
    {
      "cell_type": "markdown",
      "source": [
        "Modelo de Regressão Logística:\n",
        "\n",
        "A regressão logística é amplamente usada para a classificação de dados discretos. Neste caso, a utilizaremos para classificação binária (1,0).\n",
        "\n",
        "Com base nas observações nos gráficos de histograma, podemos supor que o diagnóstico do câncer depende das médias do radius, mean perimeter, mean area, mean compactness, mean concavity and mean concave points. Podemos, então, realizar uma análise de regressão logística usando essas características da seguinte maneira:"
      ],
      "metadata": {
        "id": "dhIbsbqKiFZN"
      }
    },
    {
      "cell_type": "code",
      "source": [
        "previsao = ['x.radius_mean','x.perimeter_mean','x.area_mean','x.compactness_mean','x.concave_pts_mean']\n",
        "alvos='target'\n",
        "modelo=LogisticRegression(max_iter = 200)\n",
        "\n",
        "classificacao(modelo,treinoX,previsao,alvos)"
      ],
      "metadata": {
        "id": "mq6m6qzAiBoV",
        "colab": {
          "base_uri": "https://localhost:8080/"
        },
        "outputId": "2ba08091-a2c2-480d-85cb-0e5594283d1c"
      },
      "execution_count": null,
      "outputs": [
        {
          "output_type": "stream",
          "name": "stdout",
          "text": [
            "Acurácia : 89.676%\n",
            "Pontuação de Validação Cruzada : 88.235%\n",
            "Pontuação de Validação Cruzada : 88.971%\n",
            "Pontuação de Validação Cruzada : 88.725%\n",
            "Pontuação de Validação Cruzada : 88.603%\n",
            "Pontuação de Validação Cruzada : 88.793%\n"
          ]
        }
      ]
    },
    {
      "cell_type": "markdown",
      "source": [
        "Arvore de decisão:"
      ],
      "metadata": {
        "id": "JyIG2zDqq1yB"
      }
    },
    {
      "cell_type": "code",
      "source": [
        "previsao = ['x.radius_mean','x.perimeter_mean','x.area_mean','x.compactness_mean','x.concave_pts_mean']\n",
        "alvos='target'\n",
        "modelo=DecisionTreeClassifier()\n",
        "\n",
        "classificacao(modelo,testeX,previsao,alvos)"
      ],
      "metadata": {
        "id": "KafnIaawneHF",
        "colab": {
          "base_uri": "https://localhost:8080/"
        },
        "outputId": "3980d0a5-6fbc-4962-caed-4e77dddc1920"
      },
      "execution_count": null,
      "outputs": [
        {
          "output_type": "stream",
          "name": "stdout",
          "text": [
            "Acurácia : 100.000%\n",
            "Pontuação de Validação Cruzada : 96.154%\n",
            "Pontuação de Validação Cruzada : 98.077%\n",
            "Pontuação de Validação Cruzada : 92.308%\n",
            "Pontuação de Validação Cruzada : 91.231%\n",
            "Pontuação de Validação Cruzada : 90.585%\n"
          ]
        }
      ]
    },
    {
      "cell_type": "markdown",
      "source": [
        "Usando todas as colunas, precebe-se que a precisão e a validação cruzada são otimas:"
      ],
      "metadata": {
        "id": "atMbIADF2E_b"
      }
    },
    {
      "cell_type": "code",
      "source": [
        "#USANDO TODAS AS COLUNAS\n",
        "previsao = descricao\n",
        "modelo = RandomForestClassifier(n_estimators=100,min_samples_split=25, max_depth=7, max_features=2)\n",
        "classificacao(modelo,testeX,previsao,alvos)"
      ],
      "metadata": {
        "id": "mjR2dwYmpqv3",
        "colab": {
          "base_uri": "https://localhost:8080/"
        },
        "outputId": "25550b8a-4978-46a6-f384-08941ffdb198"
      },
      "execution_count": null,
      "outputs": [
        {
          "output_type": "stream",
          "name": "stdout",
          "text": [
            "Acurácia : 95.882%\n",
            "Pontuação de Validação Cruzada : 94.118%\n",
            "Pontuação de Validação Cruzada : 94.118%\n",
            "Pontuação de Validação Cruzada : 93.137%\n",
            "Pontuação de Validação Cruzada : 92.647%\n",
            "Pontuação de Validação Cruzada : 92.353%\n"
          ]
        }
      ]
    },
    {
      "cell_type": "markdown",
      "source": [
        "Aqui,  uma matriz com dados da importância das colunas é retornada. Portanto, vamos selecionar as cinco principais colunas e usá-las para na previsão.\n"
      ],
      "metadata": {
        "id": "kfshycZbuQ1q"
      }
    },
    {
      "cell_type": "code",
      "source": [
        "featImp = pd.Series(modelo.feature_importances_, index=previsao).sort_values(ascending=False)\n",
        "print(featImp)"
      ],
      "metadata": {
        "id": "Kr2N-aFHrLHa",
        "colab": {
          "base_uri": "https://localhost:8080/"
        },
        "outputId": "1ae9bc4a-8796-42a5-b54b-73c64656693e"
      },
      "execution_count": null,
      "outputs": [
        {
          "output_type": "stream",
          "name": "stdout",
          "text": [
            "x.concave_pts_mean    0.258700\n",
            "x.concavity_mean      0.173121\n",
            "x.area_mean           0.153087\n",
            "x.perimeter_mean      0.123804\n",
            "x.compactness_mean    0.112537\n",
            "x.radius_mean         0.086687\n",
            "x.smoothness_mean     0.033770\n",
            "x.texture_mean        0.030477\n",
            "x.fractal_dim_mean    0.014710\n",
            "x.symmetry_mean       0.013107\n",
            "dtype: float64\n"
          ]
        }
      ]
    },
    {
      "cell_type": "markdown",
      "source": [
        "A seguir, o gráfico explica melhor a sitação anterior. As colunas x.concave_pts_mean, x.concavity_mean e x.area_mean, por exemplo, se mostram mais interessantes para serem levadas em consideração na nossa análise.        \n"
      ],
      "metadata": {
        "id": "8Ozm0wDmxtZA"
      }
    },
    {
      "cell_type": "code",
      "source": [
        "importancia = pd.Series(modelo.feature_importances_, index=previsao).sort_values(ascending=False)\n",
        "sns.barplot(x=importancia, y = importancia.index)\n",
        "plt.show()"
      ],
      "metadata": {
        "id": "XCXjrm7-0OPA",
        "colab": {
          "base_uri": "https://localhost:8080/",
          "height": 426
        },
        "outputId": "e9c1822d-7fc1-404a-b334-1f58dc3bbde3"
      },
      "execution_count": null,
      "outputs": [
        {
          "output_type": "display_data",
          "data": {
            "text/plain": [
              "<Figure size 640x480 with 1 Axes>"
            ],
            "image/png": "[encoded data removed]"
          },
          "metadata": {}
        }
      ]
    },
    {
      "cell_type": "markdown",
      "source": [
        "O uso das cinco melhores colunas altera um pouco a precisão da previsão:"
      ],
      "metadata": {
        "id": "Cl8LvNc_vXj0"
      }
    },
    {
      "cell_type": "code",
      "source": [
        "#Usando as 5 colunas\n",
        "previsao = ['x.concave_pts_mean','x.area_mean','x.radius_mean','x.perimeter_mean','x.concavity_mean']\n",
        "modelo = RandomForestClassifier(n_estimators=100,min_samples_split=25, max_depth=7, max_features=2)\n",
        "classificacao(modelo,testeX,previsao,alvos)"
      ],
      "metadata": {
        "id": "dtlP3LaBn2S7",
        "colab": {
          "base_uri": "https://localhost:8080/"
        },
        "outputId": "0801c8f5-3474-4390-d3f7-63ac9ed733f8"
      },
      "execution_count": null,
      "outputs": [
        {
          "output_type": "stream",
          "name": "stdout",
          "text": [
            "Acurácia : 94.706%\n",
            "Pontuação de Validação Cruzada : 94.118%\n",
            "Pontuação de Validação Cruzada : 94.118%\n",
            "Pontuação de Validação Cruzada : 92.157%\n",
            "Pontuação de Validação Cruzada : 91.176%\n",
            "Pontuação de Validação Cruzada : 91.765%\n"
          ]
        }
      ]
    },
    {
      "cell_type": "code",
      "source": [
        "descricao2 =list(X.columns[0:30])\n",
        "\n",
        "# Divide o DataFrame usando todas as colunas em duas bases(Maligno e Benigno) para serem analisadas\n",
        "\n",
        "XM=X[X['target'] == 0]\n",
        "XB=X[X['target'] == 1]"
      ],
      "metadata": {
        "id": "X3X1oE9pA3d-"
      },
      "execution_count": null,
      "outputs": []
    },
    {
      "cell_type": "code",
      "source": [
        "previsao = descricao2\n",
        "modelo = RandomForestClassifier(n_estimators=100,min_samples_split=25, max_depth=7, max_features=2)\n",
        "classificacao(modelo,testeX,previsao,alvos)"
      ],
      "metadata": {
        "id": "dF3VcHkBANVB",
        "colab": {
          "base_uri": "https://localhost:8080/",
          "height": 211
        },
        "outputId": "fde1ef89-83ad-4894-a3b3-b9b2c0e0a324"
      },
      "execution_count": null,
      "outputs": [
        {
          "output_type": "error",
          "ename": "NameError",
          "evalue": "ignored",
          "traceback": [
            "\u001b[0;31m---------------------------------------------------------------------------\u001b[0m",
            "\u001b[0;31mNameError\u001b[0m                                 Traceback (most recent call last)",
            "\u001b[0;32m<ipython-input-11-04c7d1041506>\u001b[0m in \u001b[0;36m<cell line: 3>\u001b[0;34m()\u001b[0m\n\u001b[1;32m      1\u001b[0m \u001b[0mprevisao\u001b[0m \u001b[0;34m=\u001b[0m \u001b[0mdescricao2\u001b[0m\u001b[0;34m\u001b[0m\u001b[0;34m\u001b[0m\u001b[0m\n\u001b[1;32m      2\u001b[0m \u001b[0mmodelo\u001b[0m \u001b[0;34m=\u001b[0m \u001b[0mRandomForestClassifier\u001b[0m\u001b[0;34m(\u001b[0m\u001b[0mn_estimators\u001b[0m\u001b[0;34m=\u001b[0m\u001b[0;36m100\u001b[0m\u001b[0;34m,\u001b[0m\u001b[0mmin_samples_split\u001b[0m\u001b[0;34m=\u001b[0m\u001b[0;36m25\u001b[0m\u001b[0;34m,\u001b[0m \u001b[0mmax_depth\u001b[0m\u001b[0;34m=\u001b[0m\u001b[0;36m7\u001b[0m\u001b[0;34m,\u001b[0m \u001b[0mmax_features\u001b[0m\u001b[0;34m=\u001b[0m\u001b[0;36m2\u001b[0m\u001b[0;34m)\u001b[0m\u001b[0;34m\u001b[0m\u001b[0;34m\u001b[0m\u001b[0m\n\u001b[0;32m----> 3\u001b[0;31m \u001b[0mclassificacao\u001b[0m\u001b[0;34m(\u001b[0m\u001b[0mmodelo\u001b[0m\u001b[0;34m,\u001b[0m\u001b[0mtesteX\u001b[0m\u001b[0;34m,\u001b[0m\u001b[0mprevisao\u001b[0m\u001b[0;34m,\u001b[0m\u001b[0malvos\u001b[0m\u001b[0;34m)\u001b[0m\u001b[0;34m\u001b[0m\u001b[0;34m\u001b[0m\u001b[0m\n\u001b[0m",
            "\u001b[0;31mNameError\u001b[0m: name 'classificacao' is not defined"
          ]
        }
      ]
    },
    {
      "cell_type": "markdown",
      "source": [
        "A precisão indica que o modelo é capaz de fazer previsões corretas em aproximadamente 97.647% dos casos.\n",
        "\n",
        "A pontuação de validação cruzada é uma métrica importante que reflete o desempenho do modelo em diferentes subconjuntos dos dados. As pontuações de validação cruzada variam de 91% a 94%, o que é um bom sinal. Essas pontuações sugerem que o modelo está se saindo bem em diferentes partições dos dados e é capaz de generalizar bem para novos dados.\n",
        "\n",
        "É importante lembrar que, embora uma alta precisão seja desejável, é essencial considerar outras métricas, dependendo do contexto problema. Além disso, temos que nos certificar se não está acontecento um over-fitting com os dados e que as métricas são consistentes em diferentes conjuntos de dados. A validação cruzada ajuda a avaliar a estabilidade do modelo.\n"
      ],
      "metadata": {
        "id": "86AqVXXUGS51"
      }
    },
    {
      "cell_type": "code",
      "source": [
        "plt.rcParams['figure.figsize']=[10.00, 10.00]\n",
        "importancia = pd.Series(modelo.feature_importances_, index=previsao).sort_values(ascending=False)\n",
        "sns.barplot(x=importancia, y = importancia.index)\n",
        "plt.show()"
      ],
      "metadata": {
        "id": "TC3NyQ7iCDQN",
        "colab": {
          "base_uri": "https://localhost:8080/",
          "height": 826
        },
        "outputId": "d806b68b-a9de-4a87-c987-1ce064edc92b"
      },
      "execution_count": null,
      "outputs": [
        {
          "output_type": "display_data",
          "data": {
            "text/plain": [
              "<Figure size 1000x1000 with 1 Axes>"
            ],
            "image/png": "[encoded data removed]"
          },
          "metadata": {}
        }
      ]
    },
    {
      "cell_type": "markdown",
      "source": [
        "Continuação das validações para confirmar as melhores colunas baseadas no modelo random forest."
      ],
      "metadata": {
        "id": "558sXCUX0cyU"
      }
    },
    {
      "cell_type": "code",
      "source": [
        "#Usando as 5 colunas\n",
        "previsao = ['x.radius_worst','x.concave_pts_worst','x.perimeter_worst','x.area_worst','x.perimeter_mean']\n",
        "modelo = RandomForestClassifier(n_estimators=100,min_samples_split=25, max_depth=7, max_features=2)\n",
        "classificacao(modelo,testeX,previsao,alvos)"
      ],
      "metadata": {
        "id": "bjMHWGpwCTYg",
        "colab": {
          "base_uri": "https://localhost:8080/"
        },
        "outputId": "330f8cbd-ecd5-4d8a-de13-ed84036b08f8"
      },
      "execution_count": null,
      "outputs": [
        {
          "output_type": "stream",
          "name": "stdout",
          "text": [
            "Acurácia : 94.118%\n",
            "Pontuação de Validação Cruzada : 94.118%\n",
            "Pontuação de Validação Cruzada : 91.176%\n",
            "Pontuação de Validação Cruzada : 90.196%\n",
            "Pontuação de Validação Cruzada : 89.706%\n",
            "Pontuação de Validação Cruzada : 90.588%\n"
          ]
        }
      ]
    },
    {
      "cell_type": "code",
      "source": [
        "previsao = ['x.concave_pts_mean','x.area_worst','x.radius_worst','x.perimeter_worst','x.concavity_mean']\n",
        "modelo = RandomForestClassifier(n_estimators=100,min_samples_split=25, max_depth=7, max_features=2)\n",
        "alvos='target'\n",
        "classificacao(modelo,testeX,previsao,alvos)"
      ],
      "metadata": {
        "colab": {
          "base_uri": "https://localhost:8080/"
        },
        "id": "ZtGrLbFafrNv",
        "outputId": "34f52263-6fd5-434b-ceb8-6187c82866ce"
      },
      "execution_count": null,
      "outputs": [
        {
          "output_type": "stream",
          "name": "stdout",
          "text": [
            "Acurácia : 97.647%\n",
            "Pontuação de Validação Cruzada : 94.118%\n",
            "Pontuação de Validação Cruzada : 94.118%\n",
            "Pontuação de Validação Cruzada : 94.118%\n",
            "Pontuação de Validação Cruzada : 92.647%\n",
            "Pontuação de Validação Cruzada : 92.941%\n"
          ]
        }
      ]
    },
    {
      "cell_type": "code",
      "source": [
        "previsao = ['x.radius_worst','x.concave_pts_worst','x.perimeter_worst','x.area_worst','x.concave_pts_mean']\n",
        "modelo = RandomForestClassifier(n_estimators=100,min_samples_split=25, max_depth=7, max_features=2)\n",
        "classificacao(modelo,testeX,previsao,alvos)\n"
      ],
      "metadata": {
        "id": "CYi-ypMO5x1I",
        "colab": {
          "base_uri": "https://localhost:8080/"
        },
        "outputId": "27c80d36-fe63-4a77-c04e-73a6dea83340"
      },
      "execution_count": null,
      "outputs": [
        {
          "output_type": "stream",
          "name": "stdout",
          "text": [
            "Acurácia : 98.824%\n",
            "Pontuação de Validação Cruzada : 94.118%\n",
            "Pontuação de Validação Cruzada : 91.176%\n",
            "Pontuação de Validação Cruzada : 94.118%\n",
            "Pontuação de Validação Cruzada : 92.647%\n",
            "Pontuação de Validação Cruzada : 94.118%\n"
          ]
        }
      ]
    },
    {
      "cell_type": "markdown",
      "source": [
        "Salvamento do modelo treinado:\n"
      ],
      "metadata": {
        "id": "ZSCIz6ixjiHs"
      }
    },
    {
      "cell_type": "code",
      "source": [
        "joblib.dump(modelo, \"modeloTreinamento.pkl\")"
      ],
      "metadata": {
        "colab": {
          "base_uri": "https://localhost:8080/"
        },
        "id": "QnRqfGekXePl",
        "outputId": "e837be46-2c74-4702-c104-645e7e59cc76"
      },
      "execution_count": null,
      "outputs": [
        {
          "output_type": "execute_result",
          "data": {
            "text/plain": [
              "['modeloTreinamento.pkl']"
            ]
          },
          "metadata": {},
          "execution_count": 58
        }
      ]
    },
    {
      "cell_type": "markdown",
      "source": [
        "-------------------------------------------"
      ],
      "metadata": {
        "id": "8epM_iaq5BpK"
      }
    },
    {
      "cell_type": "code",
      "source": [
        "modelo = joblib.load(\"modeloTreinamento.pkl\")"
      ],
      "metadata": {
        "id": "fhYL1_8cdc9h"
      },
      "execution_count": null,
      "outputs": []
    },
    {
      "cell_type": "markdown",
      "source": [
        "Realização de teste para confirmação positiva dos resultados:"
      ],
      "metadata": {
        "id": "b_E8EhZq07pe"
      }
    },
    {
      "cell_type": "code",
      "source": [
        "#teste\n",
        "def predict_sample(radius_worst,concave_pts_worst,perimeter_worst,area_worst,perimeter_mean):\n",
        "    sample = np.array([[radius_worst,concave_pts_worst,perimeter_worst,area_worst,perimeter_mean]])\n",
        "    predicted_class = modelo.predict(sample)[0]\n",
        "\n",
        "    if predicted_class == 1:\n",
        "        result = 'BENIGNO'\n",
        "    else:\n",
        "        result = 'MALIGNO'\n",
        "\n",
        "    return result"
      ],
      "metadata": {
        "id": "R0r5BsmtjtaO"
      },
      "execution_count": null,
      "outputs": []
    },
    {
      "cell_type": "code",
      "source": [
        "var = predict_sample(0.1504,0.079110, 96.42, 684.5 ,89.75)\n",
        "\n",
        "print(var)"
      ],
      "metadata": {
        "id": "wwc98DeDKWs3",
        "colab": {
          "base_uri": "https://localhost:8080/"
        },
        "outputId": "d250e3f5-8c4f-4e23-9bf5-aa2d1864e6b0"
      },
      "execution_count": null,
      "outputs": [
        {
          "output_type": "stream",
          "name": "stdout",
          "text": [
            "MALIGNO\n"
          ]
        },
        {
          "output_type": "stream",
          "name": "stderr",
          "text": [
            "/usr/local/lib/python3.10/dist-packages/sklearn/base.py:465: UserWarning: X does not have valid feature names, but RandomForestClassifier was fitted with feature names\n",
            "  warnings.warn(\n"
          ]
        }
      ]
    },
    {
      "cell_type": "code",
      "source": [
        "for idx, model in enumerate(Algoritimos):\n",
        "  alvos='target'\n",
        "  classificacao(modelo,testeX, descricao2 ,alvos)\n",
        "  results_df.loc[idx, 'Acuracia']"
      ],
      "metadata": {
        "colab": {
          "base_uri": "https://localhost:8080/"
        },
        "id": "x3TwZuajT18V",
        "outputId": "4a2940ab-f3bb-4ff1-fb68-d62001baca80"
      },
      "execution_count": null,
      "outputs": [
        {
          "output_type": "stream",
          "name": "stdout",
          "text": [
            "Acurácia : 100.000%\n",
            "Pontuação de Validação Cruzada : 94.118%\n",
            "Pontuação de Validação Cruzada : 91.176%\n",
            "Pontuação de Validação Cruzada : 92.157%\n",
            "Pontuação de Validação Cruzada : 91.176%\n",
            "Pontuação de Validação Cruzada : 92.941%\n",
            "Acurácia : 100.000%\n",
            "Pontuação de Validação Cruzada : 94.118%\n",
            "Pontuação de Validação Cruzada : 91.176%\n",
            "Pontuação de Validação Cruzada : 92.157%\n",
            "Pontuação de Validação Cruzada : 91.176%\n",
            "Pontuação de Validação Cruzada : 92.941%\n",
            "Acurácia : 100.000%\n",
            "Pontuação de Validação Cruzada : 94.118%\n",
            "Pontuação de Validação Cruzada : 91.176%\n",
            "Pontuação de Validação Cruzada : 92.157%\n",
            "Pontuação de Validação Cruzada : 91.176%\n",
            "Pontuação de Validação Cruzada : 92.941%\n"
          ]
        }
      ]
    }
  ]
}